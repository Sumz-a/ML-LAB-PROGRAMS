{
 "cells": [
  {
   "cell_type": "code",
   "execution_count": null,
   "id": "lesbian-perception",
   "metadata": {},
   "outputs": [],
   "source": [
    "import csv\n",
    "num_attribute=6\n",
    "a=[]\n",
    "with open('C:\\\\Users\\\\user\\\\OneDrive\\\\Desktop\\\\pro1.csv','r') as csvfile:\n",
    "    reader=csv.reader(csvfile)\n",
    "    for row in reader:\n",
    "        a.append(row)\n",
    "        print(row)\n",
    "print(\"\\n the total number of training instances are:\",len(a))\n",
    "num_attribute=len(a[0])-1\n",
    "print(\"\\n The initial hypothesis:\")\n",
    "hypothesis=['0']*num_attribute\n",
    "print(hypothesis)\n",
    "for j in range(0,num_attribute):\n",
    "    hypothesis[j]=a[0][j]\n",
    "print(\"\\n Find-S: finding maximally specific hypothesis\\n\")\n",
    "for i in range(0,len(a)):\n",
    "    if a[i][num_attribute]=='Yes':\n",
    "        for j in range(0,num_attribute):\n",
    "            if a[i][j]!=hypothesis[j]:\n",
    "                hypothesis[j]='?'\n",
    "            else:\n",
    "                hypothesis[j]=a[i][j]\n",
    "    print(\"\\n for training example No:{0} the hypothesis is \".format(i),hypothesis)\n",
    "print(\"\\n the maximally specific hypothesis for training instance is\")\n",
    "print(hypothesis)"
   ]
  }
 ],
 "metadata": {
  "kernelspec": {
   "display_name": "Python 3",
   "language": "python",
   "name": "python3"
  },
  "language_info": {
   "codemirror_mode": {
    "name": "ipython",
    "version": 3
   },
   "file_extension": ".py",
   "mimetype": "text/x-python",
   "name": "python",
   "nbconvert_exporter": "python",
   "pygments_lexer": "ipython3",
   "version": "3.9.1"
  }
 },
 "nbformat": 4,
 "nbformat_minor": 5
}
